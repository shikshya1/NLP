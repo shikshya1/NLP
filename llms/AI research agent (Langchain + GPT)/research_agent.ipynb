{
  "nbformat": 4,
  "nbformat_minor": 0,
  "metadata": {
    "colab": {
      "provenance": []
    },
    "kernelspec": {
      "name": "python3",
      "display_name": "Python 3"
    },
    "language_info": {
      "name": "python"
    }
  },
  "cells": [
    {
      "cell_type": "code",
      "source": [
        "!pip install langchain python-dotenv beautifulsoup4 openai tiktoken"
      ],
      "metadata": {
        "id": "_hvVB7bMM0Ng"
      },
      "execution_count": null,
      "outputs": []
    },
    {
      "cell_type": "code",
      "source": [
        "import os\n",
        "from dotenv import load_dotenv\n",
        "\n",
        "from langchain import PromptTemplate\n",
        "from langchain.agents import initialize_agent, Tool\n",
        "from langchain.agents import AgentType\n",
        "from langchain.chat_models import ChatOpenAI\n",
        "from langchain.prompts import MessagesPlaceholder\n",
        "from langchain.memory import ConversationSummaryBufferMemory\n",
        "from langchain.text_splitter import RecursiveCharacterTextSplitter\n",
        "from langchain.chains.summarize import load_summarize_chain\n",
        "from langchain.tools import BaseTool\n",
        "from pydantic import BaseModel, Field\n",
        "from typing import Type\n",
        "from bs4 import BeautifulSoup\n",
        "import requests\n",
        "import json\n",
        "from langchain.schema import SystemMessage"
      ],
      "metadata": {
        "id": "gv7fvvJRNihS"
      },
      "execution_count": 2,
      "outputs": []
    },
    {
      "cell_type": "code",
      "source": [
        "load_dotenv()\n",
        "browserless_api_key = os.getenv(\"BROWSERLESS_API_KEY\")\n",
        "serper_api_key = os.getenv(\"SERPAPI_API_KEY\")"
      ],
      "metadata": {
        "id": "fuUBHRgvNkbB"
      },
      "execution_count": 20,
      "outputs": []
    },
    {
      "cell_type": "code",
      "source": [
        "def search(query):\n",
        "    url = \"https://google.serper.dev/search\"\n",
        "\n",
        "    payload = json.dumps({\n",
        "        \"q\": query\n",
        "    })\n",
        "\n",
        "    headers = {\n",
        "        'X-API-KEY': serper_api_key,\n",
        "        'Content-Type': 'application/json'\n",
        "    }\n",
        "\n",
        "    response = requests.request(\"POST\", url, headers=headers, data=payload)\n",
        "\n",
        "    print(response.text)\n",
        "\n",
        "    return response.text"
      ],
      "metadata": {
        "id": "BVlKZkmzNnTX"
      },
      "execution_count": 21,
      "outputs": []
    },
    {
      "cell_type": "code",
      "source": [
        "def scrape_website(objective: str, url: str):\n",
        "\n",
        "    print(\"Scraping website...\")\n",
        "    headers = {\n",
        "        'Cache-Control': 'no-cache',\n",
        "        'Content-Type': 'application/json',\n",
        "    }\n",
        "\n",
        "    data = {\n",
        "        \"url\": url\n",
        "    }\n",
        "\n",
        "    data_json = json.dumps(data)\n",
        "\n",
        "    post_url = f\"https://chrome.browserless.io/content?token={browserless_api_key}\"\n",
        "    response = requests.post(post_url, headers=headers, data=data_json)\n",
        "\n",
        "    if response.status_code == 200:\n",
        "        soup = BeautifulSoup(response.content, \"html.parser\")\n",
        "        text = soup.get_text()\n",
        "        print(\"CONTENTTTTTT:\", text)\n",
        "\n",
        "        if len(text) > 10000:\n",
        "            output = summary(objective, text)\n",
        "            return output\n",
        "        else:\n",
        "            return text\n",
        "    else:\n",
        "        print(f\"HTTP request failed with status code {response.status_code}\")"
      ],
      "metadata": {
        "id": "MPkJYKnZNrEF"
      },
      "execution_count": 22,
      "outputs": []
    },
    {
      "cell_type": "code",
      "source": [
        "def summary(objective, content):\n",
        "    llm = ChatOpenAI(temperature=0, model=\"gpt-3.5-turbo-16k-0613\")\n",
        "\n",
        "    text_splitter = RecursiveCharacterTextSplitter(\n",
        "        separators=[\"\\n\\n\", \"\\n\"], chunk_size=10000, chunk_overlap=500)\n",
        "    docs = text_splitter.create_documents([content])\n",
        "    map_prompt = \"\"\"\n",
        "    Write a summary of the following text for {objective}:\n",
        "    \"{text}\"\n",
        "    SUMMARY:\n",
        "    \"\"\"\n",
        "    map_prompt_template = PromptTemplate(\n",
        "        template=map_prompt, input_variables=[\"text\", \"objective\"])\n",
        "\n",
        "    summary_chain = load_summarize_chain(\n",
        "        llm=llm,\n",
        "        chain_type='map_reduce',\n",
        "        map_prompt=map_prompt_template,\n",
        "        combine_prompt=map_prompt_template,\n",
        "        verbose=True\n",
        "    )\n",
        "\n",
        "    output = summary_chain.run(input_documents=docs, objective=objective)\n",
        "\n",
        "    return output"
      ],
      "metadata": {
        "id": "6YWnkIiQNuyF"
      },
      "execution_count": 23,
      "outputs": []
    },
    {
      "cell_type": "code",
      "source": [
        "class ScrapeWebsiteInput(BaseModel):\n",
        "    objective: str = Field(\n",
        "        description=\"The objective & task that users give to the agent\")\n",
        "    url: str = Field(description=\"The url of the website to be scraped\")"
      ],
      "metadata": {
        "id": "QqPmMp2fNwsi"
      },
      "execution_count": 24,
      "outputs": []
    },
    {
      "cell_type": "code",
      "source": [
        "class ScrapeWebsiteTool(BaseTool):\n",
        "    name = \"scrape_website\"\n",
        "    description = \"useful when you need to get data from a website url, passing both url and objective to the function; DO NOT make up any url, the url should only be from the search results\"\n",
        "    args_schema: Type[BaseModel] = ScrapeWebsiteInput\n",
        "\n",
        "    def _run(self, objective: str, url: str):\n",
        "        return scrape_website(objective, url)\n",
        "\n",
        "    def _arun(self, url: str):\n",
        "        raise NotImplementedError(\"error here\")"
      ],
      "metadata": {
        "id": "oZi8KCwuNzaS"
      },
      "execution_count": 25,
      "outputs": []
    },
    {
      "cell_type": "code",
      "source": [
        "tools = [\n",
        "    Tool(\n",
        "        name=\"Search\",\n",
        "        func=search,\n",
        "        description=\"useful for when you need to answer questions about current events, data. You should ask targeted questions\"\n",
        "    ),\n",
        "    ScrapeWebsiteTool(),\n",
        "]"
      ],
      "metadata": {
        "id": "hfA3LrVIN46r"
      },
      "execution_count": 26,
      "outputs": []
    },
    {
      "cell_type": "code",
      "source": [
        "system_message = SystemMessage(\n",
        "    content=\"\"\"You are a world class researcher, who can do detailed research on any topic and produce facts based results;\n",
        "            you do not make things up, you will try as hard as possible to gather facts & data to back up the research\n",
        "\n",
        "            Please make sure you complete the objective above with the following rules:\n",
        "            1/ You should do enough research to gather as much information as possible about the objective\n",
        "            2/ If there are url of relevant links & articles, you will scrape it to gather more information\n",
        "            3/ After scraping & search, you should think \"is there any new things i should search & scraping based on the data I collected to increase research quality?\" If answer is yes, continue; But don't do this more than 3 iteratins\n",
        "            4/ You should not make things up, you should only write facts & data that you have gathered\n",
        "            5/ In the final output, You should include all reference data & links to back up your research; You should include all reference data & links to back up your research\n",
        "            6/ In the final output, You should include all reference data & links to back up your research; You should include all reference data & links to back up your research\"\"\"\n",
        ")\n",
        "\n",
        "agent_kwargs = {\n",
        "    \"extra_prompt_messages\": [MessagesPlaceholder(variable_name=\"memory\")],\n",
        "    \"system_message\": system_message,\n",
        "}\n"
      ],
      "metadata": {
        "id": "X77jwKLRN7wT"
      },
      "execution_count": 27,
      "outputs": []
    },
    {
      "cell_type": "code",
      "source": [
        "import openai\n",
        "openai.__version__"
      ],
      "metadata": {
        "colab": {
          "base_uri": "https://localhost:8080/",
          "height": 36
        },
        "id": "VlIvp2mUOYQ1",
        "outputId": "0ebc9884-1c5d-4bd0-fe89-9bdf66846963"
      },
      "execution_count": 34,
      "outputs": [
        {
          "output_type": "execute_result",
          "data": {
            "text/plain": [
              "'1.6.1'"
            ],
            "application/vnd.google.colaboratory.intrinsic+json": {
              "type": "string"
            }
          },
          "metadata": {},
          "execution_count": 34
        }
      ]
    },
    {
      "cell_type": "code",
      "execution_count": 29,
      "metadata": {
        "id": "UwZeIedseICt"
      },
      "outputs": [],
      "source": [
        "llm = ChatOpenAI(temperature=0, model=\"gpt-3.5-turbo\")\n",
        "memory = ConversationSummaryBufferMemory(\n",
        "    memory_key=\"memory\", return_messages=True, llm=llm, max_token_limit=1000)\n",
        "\n",
        "agent = initialize_agent(\n",
        "    tools,\n",
        "    llm,\n",
        "    agent=AgentType.OPENAI_FUNCTIONS,\n",
        "    verbose=True,\n",
        "    agent_kwargs=agent_kwargs,\n",
        "    memory=memory,\n",
        ")\n",
        "\n"
      ]
    },
    {
      "cell_type": "code",
      "source": [
        "content = agent({\"input\": 'ethics in AI'})\n",
        "actual_content = content['output']"
      ],
      "metadata": {
        "colab": {
          "base_uri": "https://localhost:8080/"
        },
        "id": "zaX5HoTBMlsq",
        "outputId": "d4aa743c-3f94-4d28-cd1e-d830c9852f67"
      },
      "execution_count": 33,
      "outputs": [
        {
          "output_type": "stream",
          "name": "stdout",
          "text": [
            "\n",
            "\n",
            "\u001b[1m> Entering new AgentExecutor chain...\u001b[0m\n",
            "\u001b[32;1m\u001b[1;3mEthics in AI refers to the moral principles and guidelines that govern the development, deployment, and use of artificial intelligence systems. As AI technology continues to advance and become more integrated into various aspects of society, it is crucial to consider the ethical implications and ensure that AI systems are designed and used in a responsible and ethical manner. Here are some key points about ethics in AI:\n",
            "\n",
            "1. Fairness and Bias: AI systems should be designed to ensure fairness and avoid bias. This includes addressing issues such as algorithmic bias, which can result in discriminatory outcomes based on race, gender, or other protected characteristics.\n",
            "\n",
            "2. Transparency and Explainability: AI systems should be transparent and provide explanations for their decisions and actions. This is particularly important in high-stakes applications such as healthcare or criminal justice, where the ability to understand and justify AI-generated outcomes is crucial.\n",
            "\n",
            "3. Privacy and Data Protection: AI systems often rely on large amounts of data, and it is essential to protect individuals' privacy rights and ensure that data is collected, stored, and used in a responsible and secure manner. Data anonymization and consent-based data collection practices are important considerations.\n",
            "\n",
            "4. Accountability and Responsibility: Developers and users of AI systems should be accountable for the outcomes and impacts of their technology. This includes taking responsibility for any harm caused by AI systems and ensuring mechanisms for recourse and redress.\n",
            "\n",
            "5. Human Control and Autonomy: AI systems should be designed to augment human capabilities and decision-making, rather than replace or undermine human autonomy. Humans should have the ability to understand, override, or challenge AI-generated decisions when necessary.\n",
            "\n",
            "6. Social Impact: Consideration should be given to the broader societal impact of AI systems. This includes addressing issues such as job displacement, economic inequality, and the potential for AI to exacerbate existing social biases and power imbalances.\n",
            "\n",
            "7. Collaboration and Multidisciplinary Approach: Ethical considerations in AI require collaboration and input from various stakeholders, including technologists, ethicists, policymakers, and the public. A multidisciplinary approach is necessary to ensure a comprehensive understanding of the ethical implications of AI.\n",
            "\n",
            "8. Regulation and Governance: Governments and regulatory bodies play a crucial role in establishing frameworks and guidelines for the ethical development and use of AI. Clear regulations and governance mechanisms can help ensure accountability and protect against unethical practices.\n",
            "\n",
            "It is important to note that the field of AI ethics is still evolving, and ongoing discussions and research are necessary to address emerging ethical challenges and ensure that AI technology is developed and used in a manner that aligns with societal values and principles.\n",
            "\n",
            "References:\n",
            "- [Ethics of Artificial Intelligence and Robotics - Stanford Encyclopedia of Philosophy](https://plato.stanford.edu/entries/ethics-ai/)\n",
            "- [Ethics in Artificial Intelligence - Towards Data Science](https://towardsdatascience.com/ethics-in-artificial-intelligence-8a8d4f6715b4)\n",
            "- [Ethics in Artificial Intelligence - World Economic Forum](https://www.weforum.org/agenda/2016/10/top-10-ethical-issues-in-artificial-intelligence/)\n",
            "- [Ethics in Artificial Intelligence: Introduction and Importance - Analytics Insight](https://www.analyticsinsight.net/ethics-in-artificial-intelligence-introduction-and-importance/)\n",
            "- [Ethics in Artificial Intelligence - Medium](https://medium.com/@Cognilytica/ethics-in-artificial-intelligence-ai-8a3e7dce1f0)\n",
            "- [Artificial Intelligence and Ethics - Stanford University](https://plato.stanford.edu/archives/win2019/entries/ethics-ai/)\n",
            "- [Ethics in Artificial Intelligence - Oxford Internet Institute](https://www.oii.ox.ac.uk/blog/ethics-in-artificial-intelligence-an-introduction/)\n",
            "- [Ethics in Artificial Intelligence - European Commission](https://ec.europa.eu/digital-single-market/en/ethics-artificial-intelligence)\u001b[0m\n",
            "\n",
            "\u001b[1m> Finished chain.\u001b[0m\n"
          ]
        }
      ]
    },
    {
      "cell_type": "code",
      "source": [],
      "metadata": {
        "id": "coXqy7E3QGuo"
      },
      "execution_count": null,
      "outputs": []
    }
  ]
}