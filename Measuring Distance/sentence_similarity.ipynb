{
  "nbformat": 4,
  "nbformat_minor": 0,
  "metadata": {
    "colab": {
      "provenance": [],
      "collapsed_sections": []
    },
    "kernelspec": {
      "name": "python3",
      "display_name": "Python 3"
    },
    "accelerator": "GPU"
  },
  "cells": [
    {
      "cell_type": "markdown",
      "source": [
        "# Measuring Distance"
      ],
      "metadata": {
        "id": "tpAs94RrL-_D"
      }
    },
    {
      "cell_type": "markdown",
      "metadata": {
        "id": "4d5UmVEutyq3"
      },
      "source": [
        " \n",
        "### Cosine Similarity, Eucledian Distance , Transformers"
      ]
    },
    {
      "cell_type": "code",
      "source": [
        "import pandas as pd\n",
        "import numpy as np\n",
        "import re,string\n",
        "from nltk.corpus import stopwords\n",
        "import nltk\n",
        "nltk.download('stopwords')\n",
        "nltk.download('punkt')\n",
        "nltk.download('wordnet')\n",
        "\n",
        "from sklearn.feature_extraction.text import TfidfVectorizer \n",
        "from sklearn.feature_extraction.text import CountVectorizer\n",
        "from sklearn.metrics.pairwise import cosine_similarity\n",
        "from sklearn.metrics.pairwise import euclidean_distances"
      ],
      "metadata": {
        "colab": {
          "base_uri": "https://localhost:8080/"
        },
        "id": "tG9hkCztFMVE",
        "outputId": "ed0d1180-d353-43c4-f0bf-113aad3fce2b"
      },
      "execution_count": 1,
      "outputs": [
        {
          "output_type": "stream",
          "name": "stderr",
          "text": [
            "[nltk_data] Downloading package stopwords to /root/nltk_data...\n",
            "[nltk_data]   Unzipping corpora/stopwords.zip.\n",
            "[nltk_data] Downloading package punkt to /root/nltk_data...\n",
            "[nltk_data]   Unzipping tokenizers/punkt.zip.\n",
            "[nltk_data] Downloading package wordnet to /root/nltk_data...\n"
          ]
        }
      ]
    },
    {
      "cell_type": "code",
      "metadata": {
        "id": "RE3n4ziV34L0"
      },
      "source": [
        "d1 = \"Machine learning and AI are interrelated\"\n",
        "d2 = \"AI is a subset of machine learning\"\n",
        "d3 = \"He rose to fame at age twelve, when he began portraying Harry Potter in the film series of the same name \"\n",
        "d4 = \"Harry Potter is a series of seven fantasy novels written by British author J. K. Rowling. \"\n",
        "d5 = \"Machine learning algorithms use historical data as input to predict new output values.\"\n",
        "documents = [d1, d2, d3, d4,d5]\n",
        "\n"
      ],
      "execution_count": 2,
      "outputs": []
    },
    {
      "cell_type": "code",
      "metadata": {
        "id": "btOU4jdG5PH2",
        "colab": {
          "base_uri": "https://localhost:8080/"
        },
        "outputId": "1ecb39f5-c085-47bf-c623-950b9431136b"
      },
      "source": [
        "documents_df=pd.DataFrame(documents,columns=['documents'])\n",
        "\n",
        "stop_words_l=stopwords.words('english')\n",
        "documents_df['documents_cleaned']=documents_df.documents.apply(lambda x: \" \".join(re.sub(r'[^a-zA-Z]',' ',w).lower() for w in x.split() if re.sub(r'[^a-zA-Z]',' ',w).lower() not in stop_words_l) )\n",
        "\n",
        "tfidfvectoriser=TfidfVectorizer()\n",
        "tfidfvectoriser.fit(documents_df.documents_cleaned)\n",
        "tfidf_vectors=tfidfvectoriser.transform(documents_df.documents_cleaned)\n",
        "\n",
        "pairwise_similarities=np.dot(tfidf_vectors,tfidf_vectors.T).toarray()\n",
        "\n",
        "\n",
        "print(pairwise_similarities[0])\n",
        "\n",
        "print(pairwise_similarities[3])\n",
        "\n",
        "\n"
      ],
      "execution_count": 3,
      "outputs": [
        {
          "output_type": "stream",
          "name": "stdout",
          "text": [
            "[1.         0.60752662 0.         0.         0.17863166]\n",
            "[0.         0.         0.20686955 1.         0.        ]\n"
          ]
        }
      ]
    },
    {
      "cell_type": "code",
      "metadata": {
        "id": "CsV0bh-vDYWC",
        "colab": {
          "base_uri": "https://localhost:8080/"
        },
        "outputId": "9c9926be-eae5-402d-9ef1-69cb2e20578c"
      },
      "source": [
        "\n",
        "\n",
        "vectorizer = CountVectorizer()\n",
        "features = vectorizer.fit_transform(documents_df['documents_cleaned']).todense()\n",
        "\n",
        "for f in features:\n",
        "    print( euclidean_distances(features[0], f) )"
      ],
      "execution_count": 7,
      "outputs": [
        {
          "output_type": "stream",
          "name": "stdout",
          "text": [
            "[[0.]]\n",
            "[[1.41421356]]\n",
            "[[3.87298335]]\n",
            "[[3.74165739]]\n",
            "[[3.31662479]]\n"
          ]
        },
        {
          "output_type": "stream",
          "name": "stderr",
          "text": [
            "/usr/local/lib/python3.7/dist-packages/sklearn/utils/validation.py:598: FutureWarning: np.matrix usage is deprecated in 1.0 and will raise a TypeError in 1.2. Please convert to a numpy array with np.asarray. For more information see: https://numpy.org/doc/stable/reference/generated/numpy.matrix.html\n",
            "  FutureWarning,\n",
            "/usr/local/lib/python3.7/dist-packages/sklearn/utils/validation.py:598: FutureWarning: np.matrix usage is deprecated in 1.0 and will raise a TypeError in 1.2. Please convert to a numpy array with np.asarray. For more information see: https://numpy.org/doc/stable/reference/generated/numpy.matrix.html\n",
            "  FutureWarning,\n",
            "/usr/local/lib/python3.7/dist-packages/sklearn/utils/validation.py:598: FutureWarning: np.matrix usage is deprecated in 1.0 and will raise a TypeError in 1.2. Please convert to a numpy array with np.asarray. For more information see: https://numpy.org/doc/stable/reference/generated/numpy.matrix.html\n",
            "  FutureWarning,\n",
            "/usr/local/lib/python3.7/dist-packages/sklearn/utils/validation.py:598: FutureWarning: np.matrix usage is deprecated in 1.0 and will raise a TypeError in 1.2. Please convert to a numpy array with np.asarray. For more information see: https://numpy.org/doc/stable/reference/generated/numpy.matrix.html\n",
            "  FutureWarning,\n",
            "/usr/local/lib/python3.7/dist-packages/sklearn/utils/validation.py:598: FutureWarning: np.matrix usage is deprecated in 1.0 and will raise a TypeError in 1.2. Please convert to a numpy array with np.asarray. For more information see: https://numpy.org/doc/stable/reference/generated/numpy.matrix.html\n",
            "  FutureWarning,\n",
            "/usr/local/lib/python3.7/dist-packages/sklearn/utils/validation.py:598: FutureWarning: np.matrix usage is deprecated in 1.0 and will raise a TypeError in 1.2. Please convert to a numpy array with np.asarray. For more information see: https://numpy.org/doc/stable/reference/generated/numpy.matrix.html\n",
            "  FutureWarning,\n",
            "/usr/local/lib/python3.7/dist-packages/sklearn/utils/validation.py:598: FutureWarning: np.matrix usage is deprecated in 1.0 and will raise a TypeError in 1.2. Please convert to a numpy array with np.asarray. For more information see: https://numpy.org/doc/stable/reference/generated/numpy.matrix.html\n",
            "  FutureWarning,\n",
            "/usr/local/lib/python3.7/dist-packages/sklearn/utils/validation.py:598: FutureWarning: np.matrix usage is deprecated in 1.0 and will raise a TypeError in 1.2. Please convert to a numpy array with np.asarray. For more information see: https://numpy.org/doc/stable/reference/generated/numpy.matrix.html\n",
            "  FutureWarning,\n",
            "/usr/local/lib/python3.7/dist-packages/sklearn/utils/validation.py:598: FutureWarning: np.matrix usage is deprecated in 1.0 and will raise a TypeError in 1.2. Please convert to a numpy array with np.asarray. For more information see: https://numpy.org/doc/stable/reference/generated/numpy.matrix.html\n",
            "  FutureWarning,\n",
            "/usr/local/lib/python3.7/dist-packages/sklearn/utils/validation.py:598: FutureWarning: np.matrix usage is deprecated in 1.0 and will raise a TypeError in 1.2. Please convert to a numpy array with np.asarray. For more information see: https://numpy.org/doc/stable/reference/generated/numpy.matrix.html\n",
            "  FutureWarning,\n"
          ]
        }
      ]
    },
    {
      "cell_type": "code",
      "source": [
        "# Mathematical representation of eucledian distance\n",
        "\n",
        "def eucledian_dist(a,b):\n",
        "  return np.sqrt(np.sum(np.square(a - b)))"
      ],
      "metadata": {
        "id": "z6aqhyfVpohJ"
      },
      "execution_count": 8,
      "outputs": []
    },
    {
      "cell_type": "code",
      "source": [
        "eucledian_dist(features[0], features[2])"
      ],
      "metadata": {
        "colab": {
          "base_uri": "https://localhost:8080/"
        },
        "id": "Mcw1fECL23Nb",
        "outputId": "61e9df11-0857-4c1b-e943-dbf9f55328fa"
      },
      "execution_count": 9,
      "outputs": [
        {
          "output_type": "execute_result",
          "data": {
            "text/plain": [
              "3.872983346207417"
            ]
          },
          "metadata": {},
          "execution_count": 9
        }
      ]
    },
    {
      "cell_type": "code",
      "source": [
        "vectorizer = CountVectorizer()\n",
        "features = vectorizer.fit_transform(documents_df['documents_cleaned']).todense()\n",
        "\n",
        "for f in features:\n",
        "    print(cosine_similarity(features[0], f))"
      ],
      "metadata": {
        "id": "C3ZS4rzXHI9D"
      },
      "execution_count": null,
      "outputs": []
    },
    {
      "cell_type": "code",
      "source": [
        "# Mathematical representation of cosine similarity\n",
        "\n",
        "def cosine_sim(a, b): \n",
        "\treturn np.dot(a, b.T) / (np.linalg.norm(a) * np.linalg.norm(b))"
      ],
      "metadata": {
        "id": "WK_kj9pp0W3H"
      },
      "execution_count": 11,
      "outputs": []
    },
    {
      "cell_type": "code",
      "source": [
        "cosine_sim(features[0], features[1])"
      ],
      "metadata": {
        "colab": {
          "base_uri": "https://localhost:8080/"
        },
        "id": "m_bwEbuX0jJ9",
        "outputId": "9092a5f4-c090-4224-d830-6f3736ab1b05"
      },
      "execution_count": 12,
      "outputs": [
        {
          "output_type": "execute_result",
          "data": {
            "text/plain": [
              "matrix([[0.75]])"
            ]
          },
          "metadata": {},
          "execution_count": 12
        }
      ]
    },
    {
      "cell_type": "code",
      "source": [
        "!pip install sentence_transformers\n",
        "\n",
        "from sentence_transformers import SentenceTransformer\n",
        "\n",
        "model= SentenceTransformer('sentence-transformers/all-MiniLM-L6-v2')"
      ],
      "metadata": {
        "id": "n6WKySlP0hix"
      },
      "execution_count": null,
      "outputs": []
    },
    {
      "cell_type": "code",
      "source": [
        "embeddings= model.encode(documents)\n",
        "\n",
        "embeddings.shape"
      ],
      "metadata": {
        "colab": {
          "base_uri": "https://localhost:8080/"
        },
        "id": "Ogl5H1ApTMkU",
        "outputId": "820df228-5aee-452d-f9de-9de10e2a54d0"
      },
      "execution_count": 19,
      "outputs": [
        {
          "output_type": "execute_result",
          "data": {
            "text/plain": [
              "(5, 384)"
            ]
          },
          "metadata": {},
          "execution_count": 19
        }
      ]
    },
    {
      "cell_type": "code",
      "source": [
        "from sentence_transformers.util import cos_sim\n",
        "\n",
        "scores = cos_sim(embeddings[0], embeddings[1:])\n",
        "\n",
        "\n",
        "from sklearn.metrics.pairwise import cosine_similarity\n",
        "scores= cosine_similarity(\n",
        "    [embeddings[0]],\n",
        "    embeddings[1:]\n",
        ")"
      ],
      "metadata": {
        "id": "03oLrT9iTVHM"
      },
      "execution_count": 20,
      "outputs": []
    },
    {
      "cell_type": "code",
      "source": [
        "scores"
      ],
      "metadata": {
        "colab": {
          "base_uri": "https://localhost:8080/"
        },
        "id": "M-d4FkLzTYpx",
        "outputId": "df011bcc-3724-4efc-ee9b-29c871df13da"
      },
      "execution_count": 16,
      "outputs": [
        {
          "output_type": "execute_result",
          "data": {
            "text/plain": [
              "array([[ 0.7302327 , -0.02739054,  0.06554236,  0.52872294]],\n",
              "      dtype=float32)"
            ]
          },
          "metadata": {},
          "execution_count": 16
        }
      ]
    },
    {
      "cell_type": "code",
      "source": [
        "# documents[scores.argmax().item()+1]"
      ],
      "metadata": {
        "id": "OSA4svhBTa1r"
      },
      "execution_count": 17,
      "outputs": []
    },
    {
      "cell_type": "code",
      "source": [],
      "metadata": {
        "id": "v56jx1LkUEs_"
      },
      "execution_count": null,
      "outputs": []
    }
  ]
}